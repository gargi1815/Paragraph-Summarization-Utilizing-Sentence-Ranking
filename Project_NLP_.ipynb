{
  "nbformat": 4,
  "nbformat_minor": 0,
  "metadata": {
    "colab": {
      "name": "Project NLP .ipynb",
      "provenance": []
    },
    "kernelspec": {
      "name": "python3",
      "display_name": "Python 3"
    },
    "language_info": {
      "name": "python"
    }
  },
  "cells": [
    {
      "cell_type": "code",
      "execution_count": null,
      "metadata": {
        "id": "dPQpRQOOMme_"
      },
      "outputs": [],
      "source": [
        "import spacy\n",
        "import nltk\n",
        "from nltk.corpus import stopwords\n",
        "from spacy.lang.en.stop_words import STOP_WORDS\n",
        "from string import punctuation\n",
        "from heapq import nlargest"
      ]
    },
    {
      "cell_type": "code",
      "source": [
        "import nltk\n",
        "nltk.download('punkt')"
      ],
      "metadata": {
        "colab": {
          "base_uri": "https://localhost:8080/"
        },
        "id": "vacFlN-WM2ns",
        "outputId": "32a0ddee-5d02-4388-b84d-ed00da1d08a9"
      },
      "execution_count": null,
      "outputs": [
        {
          "output_type": "stream",
          "name": "stdout",
          "text": [
            "[nltk_data] Downloading package punkt to /root/nltk_data...\n",
            "[nltk_data]   Package punkt is already up-to-date!\n"
          ]
        },
        {
          "output_type": "execute_result",
          "data": {
            "text/plain": [
              "True"
            ]
          },
          "metadata": {},
          "execution_count": 9
        }
      ]
    },
    {
      "cell_type": "code",
      "source": [
        "nlp = spacy.load('en')"
      ],
      "metadata": {
        "id": "jUXUwULmM8fp"
      },
      "execution_count": null,
      "outputs": []
    },
    {
      "cell_type": "code",
      "source": [
        "def text_summarizer(line,title):\n",
        "    raw_text = line\n",
        "    docx = nlp(raw_text)\n",
        "    stopwords = list(STOP_WORDS)\n",
        "    # Build Word Frequency\n",
        "# word.text is tokenization in spacy\n",
        "    word_frequencies = {}  \n",
        "    for word in docx:  \n",
        "        if word.text not in stopwords:\n",
        "            if word.text not in word_frequencies.keys():\n",
        "                word_frequencies[word.text] = 1\n",
        "            else:\n",
        "                word_frequencies[word.text] += 1\n",
        "\n",
        "\n",
        "    maximum_frequncy = max(word_frequencies.values())\n",
        "\n",
        "    for word in word_frequencies.keys():  \n",
        "        word_frequencies[word] = (word_frequencies[word]/maximum_frequncy)\n",
        "    # for wordz in word_frequencies.items():\n",
        "    #   print(wordz)\n",
        "    # Sentence Tokens,similarity with title\n",
        "    sentence_list = [ sentence for sentence in docx.sents ]\n",
        "    line_tokens = nltk.word_tokenize(line) \n",
        "    title_tokens = nltk.word_tokenize(title)\n",
        "    \n",
        "    filtered_line = [w for w in line_tokens if not w in stopwords] \n",
        "    filtered_title = [w for w in title_tokens if not w in stopwords]\n",
        "    a=0\n",
        "    for w in filtered_line:\n",
        "        if w in filtered_title:\n",
        "             a+=1\n",
        "\n",
        "    # Calculate Sentence Score and Ranking\n",
        "    sentence_scores = {}  \n",
        "    for sent in sentence_list:  \n",
        "        for word in sent:\n",
        "            if word.text.lower() in word_frequencies.keys():\n",
        "                if len(sent.text.split(' ')) < 30:    #sentence length\n",
        "                    if sent not in sentence_scores.keys():\n",
        "                        sentence_scores[sent] = word_frequencies[word.text.lower()]+a \n",
        "                    else:\n",
        "                        sentence_scores[sent] += word_frequencies[word.text.lower()]+a\n",
        "    print(sentence_scores)\n",
        "    summary_sentences = nlargest(5, sentence_scores, key=sentence_scores.get)\n",
        "    final_sentences = [ w.text for w in summary_sentences ]\n",
        "    summary = ''.join(final_sentences)\n",
        "    print(\"Original\\n\")\n",
        "    print(para)\n",
        "    print(\"Total Length:\",len(para))\n",
        "    print('\\n\\nSummarized\\n')\n",
        "    print(summary)\n",
        "    print(\"Total Length:\",len(summary))\n"
      ],
      "metadata": {
        "id": "XpfPfNkLNA7K"
      },
      "execution_count": null,
      "outputs": []
    },
    {
      "cell_type": "code",
      "source": [
        "para=\"\"\"First, Hosea was directed by God to marry a promiscuous woman of ill-repute, and he did so. Marriage here is symbolic of the covenantal relationship between God and Israel. However, Israel has been unfaithful to God by following other gods and breaking the commandments which are the terms of the covenant, hence Israel is symbolized by a harlot who violates the obligations of marriage to her husband. Second, Hosea and his wife, Gomer, have a son. God commands that the son be named Jezreel. This name refers to a valley in which much blood had been shed in Israel's history, especially by the kings of the Northern Kingdom. (See I Kings 21 and II Kings 9:21-35). The naming of this son was to stand as a prophecy against the reigning house of the Northern Kingdom, that they would pay for that bloodshed. Jezreel's name means God Sows. Third, the couple have a daughter. God commands that she be named Lo-ruhamah; Unloved, or, Pity or Pitied On to show Israel that, although God will still have pity on the Southern Kingdom, God will no longer have pity on the Northern Kingdom; its destruction is imminent. In the NIV translation, the omitting of the word 'him' leads to speculation as to whether Lo-Ruhamah was the daughter of Hosea or one of Gomer's lovers. James Mays, however, says that the failure to mention Hosea's paternity this is \"hardly an implication\" of Gomer's adultery. Fourth, a son is born to Gomer. It is questionable whether this child was Hosea's, for God commands that his name be Lo-ammi; Not My People, or more simply, Not Mine. The child bore this name of shame to show that the Northern Kingdom would also be shamed, for its people would no longer be known as God's People. Also God says that \"I am not your I am\"; in other words, God changes His own name in connection with his current relationship with Israel. A brief outline of the concepts presented in the Book of Hosea exist below * Chapters 1-2; Account of Hosea's marriage with Gomer biographically which is a metaphor for the relationship with Yahweh and Israel. * Chapter 3; Account of Hosea's marriage autobiographically. This is possibly a marriage to different women * Chapters 4-14:9; Oracle judging Israel, Ephraim in particular, for not living up to the covenant. No further breakdown of ideas is clear in 4-14:9 Following this, the prophecy is made that someday this will all be changed, that God will indeed have pity on Israel. Chapter two describes a divorce. This divorce seems to be the end of the covenant between God and the Northern Kingdom. However, it is probable that this was again a symbolic act, in which Hosea divorced Gomer for infidelity, and used the occasion to preach the message of God's rejection of the Northern Kingdom. He ends this prophecy with the declaration that God will one day renew the covenant, and will take Israel back in love. In Chapter three, at God's command, Hosea seeks out Gomer once more. Either she has sold herself into slavery for debt, or she is with a lover who demands money in order to give her up, because Hosea has to buy her back. He takes her home, but refrains from sexual intimacy with her for many days, to symbolize the fact that Israel will be without a king for many years, but that God will take Israel back, even at a cost to Himself. Chapters 4-14 spell out the allegory at length. Chapters 1-3 speaks of Hosea's family, and the issues with Gomer. Chapters 4-10 contain a series of oracles, or prophetic sermons, showing exactly why God is rejecting the Northern Kingdom (what the grounds are for the divorce). Chapter 11 is God's lament over the necessity of giving up the Northern Kingdom, which is a large part of the people of Israel, whom God loves. God promises not to give them up entirely. Then, in Chapter 12, the prophet pleads for Israel's repentance. Chapter 13 foretells the destruction of the kingdom at the hands of Assyria, because there has been no repentance. In Chapter 14, the prophet urges Israel to seek forgiveness, and promises its restoration, while urging the utmost fidelity to God. Matthew 2:13 cites Hosea's prophecy in that God would call His Son out of Egypt as foretelling the flight into Egypt and return to Israel of Joseph, Mary, and the infant Jesus Christ. The capital of the Northern Kingdom, in 722 BC. All the members of the upper classes and many of the ordinary people were taken captive and carried off to live as prisoners of war.\n",
        "\"\"\"\n",
        "title=\"Book of Hosea\"\n",
        "text_summarizer(para,title)"
      ],
      "metadata": {
        "colab": {
          "base_uri": "https://localhost:8080/"
        },
        "id": "3LUNlcWENMGf",
        "outputId": "b5379048-44a7-46fc-c951-ec123eaaf9af"
      },
      "execution_count": null,
      "outputs": [
        {
          "output_type": "stream",
          "name": "stdout",
          "text": [
            "{First, Hosea was directed by God to marry a promiscuous woman of ill-repute, and he did so.: 143.0566037735849, Marriage here is symbolic of the covenantal relationship between God and Israel.: 70.9245283018868, Second, Hosea and his wife, Gomer, have a son.: 87.83018867924528, God commands that the son be named Jezreel.: 56.905660377358494, This name refers to a valley in which much blood had been shed in Israel's history, especially by the kings of the Northern Kingdom.: 141.8867924528302, (See I Kings 21 and II Kings 9:21-35).: 127.11320754716981, The naming of this son was to stand as a prophecy against the reigning house of the Northern Kingdom, that they would pay for that bloodshed.: 156.0188679245283, Jezreel's name means God Sows.: 28.754716981132077, Third, the couple have a daughter.: 57.79245283018868, In the NIV translation, the omitting of the word 'him' leads to speculation as to whether Lo-Ruhamah was the daughter of Hosea or one of Gomer's lovers.: 184.18867924528303, James Mays, however, says that the failure to mention Hosea's paternity this is \"hardly an implication\" of Gomer's adultery.: 171.03773584905662, Fourth, a son is born to Gomer.: 57.83018867924529, It is questionable whether this child was Hosea's, for God commands that his name be Lo-ammi; Not My People, or more simply, Not Mine.: 172.28301886792454, The child bore this name of shame to show that the Northern Kingdom would also be shamed, for its people would no longer be known as God's People.: 156.01886792452828, Also God says that \"I am not your I am\"; in other words, God changes His own name in connection with his current relationship with Israel.: 156.18867924528303, *: 14.056603773584905, Chapter 3; Account of Hosea's marriage autobiographically.: 71.0, This is possibly a marriage to different women: 56.13207547169811, * Chapters 4-14:9; Oracle judging Israel, Ephraim in particular, for not living up to the covenant.: 171.37735849056605, Chapter two describes a divorce.: 42.81132075471698, This divorce seems to be the end of the covenant between God and the Northern Kingdom.: 70.90566037735849, He ends this prophecy with the declaration that God will one day renew the covenant, and will take Israel back in love.: 127.98113207547169, In Chapter three, at God's command, Hosea seeks out Gomer once more.: 72.77358490566037, Chapters 4-14 spell out the allegory at length.: 99.11320754716982, Chapters 1-3 speaks of Hosea's family, and the issues with Gomer.: 114.0754716981132, Chapters 4-10 contain a series of oracles, or prophetic sermons, showing exactly why God is rejecting the Northern Kingdom (what the grounds are for the divorce).: 269.3584905660378, Chapter 11 is God's lament over the necessity of giving up the Northern Kingdom, which is a large part of the people of Israel, whom God loves.: 156.9245283018868, God promises not to give them up entirely.: 42.79245283018868, Then, in Chapter 12, the prophet pleads for Israel's repentance.: 100.84905660377358, Chapter 13 foretells the destruction of the kingdom at the hands of Assyria, because there has been no repentance.: 113.88679245283018, In Chapter 14, the prophet urges Israel to seek forgiveness, and promises its restoration, while urging the utmost fidelity to God.: 199.9811320754717, The capital of the Northern Kingdom, in 722 BC.: 71.79245283018868, All the members of the upper classes and many of the ordinary people were taken captive and carried off to live as prisoners of war.\n",
            ": 183.00000000000003}\n",
            "Original\n",
            "\n",
            "First, Hosea was directed by God to marry a promiscuous woman of ill-repute, and he did so. Marriage here is symbolic of the covenantal relationship between God and Israel. However, Israel has been unfaithful to God by following other gods and breaking the commandments which are the terms of the covenant, hence Israel is symbolized by a harlot who violates the obligations of marriage to her husband. Second, Hosea and his wife, Gomer, have a son. God commands that the son be named Jezreel. This name refers to a valley in which much blood had been shed in Israel's history, especially by the kings of the Northern Kingdom. (See I Kings 21 and II Kings 9:21-35). The naming of this son was to stand as a prophecy against the reigning house of the Northern Kingdom, that they would pay for that bloodshed. Jezreel's name means God Sows. Third, the couple have a daughter. God commands that she be named Lo-ruhamah; Unloved, or, Pity or Pitied On to show Israel that, although God will still have pity on the Southern Kingdom, God will no longer have pity on the Northern Kingdom; its destruction is imminent. In the NIV translation, the omitting of the word 'him' leads to speculation as to whether Lo-Ruhamah was the daughter of Hosea or one of Gomer's lovers. James Mays, however, says that the failure to mention Hosea's paternity this is \"hardly an implication\" of Gomer's adultery. Fourth, a son is born to Gomer. It is questionable whether this child was Hosea's, for God commands that his name be Lo-ammi; Not My People, or more simply, Not Mine. The child bore this name of shame to show that the Northern Kingdom would also be shamed, for its people would no longer be known as God's People. Also God says that \"I am not your I am\"; in other words, God changes His own name in connection with his current relationship with Israel. A brief outline of the concepts presented in the Book of Hosea exist below * Chapters 1-2; Account of Hosea's marriage with Gomer biographically which is a metaphor for the relationship with Yahweh and Israel. * Chapter 3; Account of Hosea's marriage autobiographically. This is possibly a marriage to different women * Chapters 4-14:9; Oracle judging Israel, Ephraim in particular, for not living up to the covenant. No further breakdown of ideas is clear in 4-14:9 Following this, the prophecy is made that someday this will all be changed, that God will indeed have pity on Israel. Chapter two describes a divorce. This divorce seems to be the end of the covenant between God and the Northern Kingdom. However, it is probable that this was again a symbolic act, in which Hosea divorced Gomer for infidelity, and used the occasion to preach the message of God's rejection of the Northern Kingdom. He ends this prophecy with the declaration that God will one day renew the covenant, and will take Israel back in love. In Chapter three, at God's command, Hosea seeks out Gomer once more. Either she has sold herself into slavery for debt, or she is with a lover who demands money in order to give her up, because Hosea has to buy her back. He takes her home, but refrains from sexual intimacy with her for many days, to symbolize the fact that Israel will be without a king for many years, but that God will take Israel back, even at a cost to Himself. Chapters 4-14 spell out the allegory at length. Chapters 1-3 speaks of Hosea's family, and the issues with Gomer. Chapters 4-10 contain a series of oracles, or prophetic sermons, showing exactly why God is rejecting the Northern Kingdom (what the grounds are for the divorce). Chapter 11 is God's lament over the necessity of giving up the Northern Kingdom, which is a large part of the people of Israel, whom God loves. God promises not to give them up entirely. Then, in Chapter 12, the prophet pleads for Israel's repentance. Chapter 13 foretells the destruction of the kingdom at the hands of Assyria, because there has been no repentance. In Chapter 14, the prophet urges Israel to seek forgiveness, and promises its restoration, while urging the utmost fidelity to God. Matthew 2:13 cites Hosea's prophecy in that God would call His Son out of Egypt as foretelling the flight into Egypt and return to Israel of Joseph, Mary, and the infant Jesus Christ. The capital of the Northern Kingdom, in 722 BC. All the members of the upper classes and many of the ordinary people were taken captive and carried off to live as prisoners of war.\n",
            "\n",
            "Total Length: 4436\n",
            "\n",
            "\n",
            "Summarized\n",
            "\n",
            "Chapters 4-10 contain a series of oracles, or prophetic sermons, showing exactly why God is rejecting the Northern Kingdom (what the grounds are for the divorce).In Chapter 14, the prophet urges Israel to seek forgiveness, and promises its restoration, while urging the utmost fidelity to God.In the NIV translation, the omitting of the word 'him' leads to speculation as to whether Lo-Ruhamah was the daughter of Hosea or one of Gomer's lovers.All the members of the upper classes and many of the ordinary people were taken captive and carried off to live as prisoners of war.\n",
            "It is questionable whether this child was Hosea's, for God commands that his name be Lo-ammi; Not My People, or more simply, Not Mine.\n",
            "Total Length: 712\n"
          ]
        }
      ]
    }
  ]
}